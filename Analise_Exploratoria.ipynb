{
  "cells": [
    {
      "cell_type": "markdown",
      "metadata": {
        "id": "view-in-github",
        "colab_type": "text"
      },
      "source": [
        "<a href=\"https://colab.research.google.com/github/TaysonMartinss/AnaliseExploratoria/blob/main/Analise_Exploratoria.ipynb\" target=\"_parent\"><img src=\"https://colab.research.google.com/assets/colab-badge.svg\" alt=\"Open In Colab\"/></a>"
      ]
    },
    {
      "cell_type": "markdown",
      "metadata": {
        "id": "OqguT_oe0evY"
      },
      "source": [
        "# 📊IMPORTAÇÃO DOS DADOS"
      ]
    },
    {
      "cell_type": "markdown",
      "source": [
        "⚙️import das bibliotecas"
      ],
      "metadata": {
        "id": "uTypG9TBeB-Q"
      }
    },
    {
      "cell_type": "code",
      "execution_count": 5,
      "metadata": {
        "collapsed": true,
        "id": "yZeQCLxCxSps"
      },
      "outputs": [],
      "source": [
        "import pandas as pd\n",
        "import numpy as np\n",
        "import matplotlib.pyplot as plt\n",
        "import seaborn as sns"
      ]
    },
    {
      "cell_type": "markdown",
      "source": [
        "🆙 carregando dataset"
      ],
      "metadata": {
        "id": "5zLeZf_2ebAH"
      }
    },
    {
      "cell_type": "code",
      "source": [
        "data = '/content/survey_results_public.csv'\n",
        "dataframe = pd.read_csv(data)"
      ],
      "metadata": {
        "id": "5R9cjIJ4ePk3",
        "collapsed": true
      },
      "execution_count": 6,
      "outputs": []
    },
    {
      "cell_type": "markdown",
      "source": [
        "🕵️ explorando o dataset"
      ],
      "metadata": {
        "id": "RDkClQZsef7X"
      }
    },
    {
      "cell_type": "code",
      "execution_count": 7,
      "metadata": {
        "colab": {
          "base_uri": "https://localhost:8080/",
          "height": 637
        },
        "collapsed": true,
        "id": "c52E4bXC11_a",
        "outputId": "d860d339-024b-4a55-d187-367e62eeab23"
      },
      "outputs": [
        {
          "output_type": "execute_result",
          "data": {
            "text/plain": [
              "       ResponseId                      MainBranch              Age  \\\n",
              "65432       65433  I am a developer by profession  18-24 years old   \n",
              "65433       65434  I am a developer by profession  25-34 years old   \n",
              "65434       65435  I am a developer by profession  25-34 years old   \n",
              "65435       65436  I am a developer by profession  18-24 years old   \n",
              "65436       65437     I code primarily as a hobby  18-24 years old   \n",
              "\n",
              "                Employment                            RemoteWork   Check  \\\n",
              "65432  Employed, full-time                                Remote  Apples   \n",
              "65433  Employed, full-time                                Remote  Apples   \n",
              "65434  Employed, full-time                             In-person  Apples   \n",
              "65435  Employed, full-time  Hybrid (some remote, some in-person)  Apples   \n",
              "65436   Student, full-time                                   NaN  Apples   \n",
              "\n",
              "                                        CodingActivities  \\\n",
              "65432                      Hobby;School or academic work   \n",
              "65433           Hobby;Contribute to open-source projects   \n",
              "65434                                              Hobby   \n",
              "65435  Hobby;Contribute to open-source projects;Profe...   \n",
              "65436                                                NaN   \n",
              "\n",
              "                                                 EdLevel  \\\n",
              "65432       Bachelor’s degree (B.A., B.S., B.Eng., etc.)   \n",
              "65433                                                NaN   \n",
              "65434       Bachelor’s degree (B.A., B.S., B.Eng., etc.)   \n",
              "65435  Secondary school (e.g. American high school, G...   \n",
              "65436                                                NaN   \n",
              "\n",
              "                                               LearnCode  \\\n",
              "65432  On the job training;School (i.e., University, ...   \n",
              "65433                                                NaN   \n",
              "65434  Other online resources (e.g., videos, blogs, f...   \n",
              "65435  On the job training;Other online resources (e....   \n",
              "65436                                                NaN   \n",
              "\n",
              "                                         LearnCodeOnline  ... JobSatPoints_6  \\\n",
              "65432                                                NaN  ...            NaN   \n",
              "65433                                                NaN  ...            NaN   \n",
              "65434  Technical documentation;Stack Overflow;Social ...  ...            NaN   \n",
              "65435  Technical documentation;Blogs;Written Tutorial...  ...            0.0   \n",
              "65436                                                NaN  ...            NaN   \n",
              "\n",
              "      JobSatPoints_7 JobSatPoints_8 JobSatPoints_9 JobSatPoints_10  \\\n",
              "65432            NaN            NaN            NaN             NaN   \n",
              "65433            NaN            NaN            NaN             NaN   \n",
              "65434            NaN            NaN            NaN             NaN   \n",
              "65435            0.0            0.0            0.0             0.0   \n",
              "65436            NaN            NaN            NaN             NaN   \n",
              "\n",
              "      JobSatPoints_11 SurveyLength SurveyEase ConvertedCompYearly JobSat  \n",
              "65432             NaN          NaN        NaN                 NaN    NaN  \n",
              "65433             NaN          NaN        NaN                 NaN    NaN  \n",
              "65434             NaN          NaN        NaN                 NaN    NaN  \n",
              "65435             0.0          NaN        NaN                 NaN    NaN  \n",
              "65436             NaN          NaN        NaN                 NaN    NaN  \n",
              "\n",
              "[5 rows x 114 columns]"
            ],
            "text/html": [
              "\n",
              "  <div id=\"df-508c94f7-1f9a-4906-a571-cb663e56e287\" class=\"colab-df-container\">\n",
              "    <div>\n",
              "<style scoped>\n",
              "    .dataframe tbody tr th:only-of-type {\n",
              "        vertical-align: middle;\n",
              "    }\n",
              "\n",
              "    .dataframe tbody tr th {\n",
              "        vertical-align: top;\n",
              "    }\n",
              "\n",
              "    .dataframe thead th {\n",
              "        text-align: right;\n",
              "    }\n",
              "</style>\n",
              "<table border=\"1\" class=\"dataframe\">\n",
              "  <thead>\n",
              "    <tr style=\"text-align: right;\">\n",
              "      <th></th>\n",
              "      <th>ResponseId</th>\n",
              "      <th>MainBranch</th>\n",
              "      <th>Age</th>\n",
              "      <th>Employment</th>\n",
              "      <th>RemoteWork</th>\n",
              "      <th>Check</th>\n",
              "      <th>CodingActivities</th>\n",
              "      <th>EdLevel</th>\n",
              "      <th>LearnCode</th>\n",
              "      <th>LearnCodeOnline</th>\n",
              "      <th>...</th>\n",
              "      <th>JobSatPoints_6</th>\n",
              "      <th>JobSatPoints_7</th>\n",
              "      <th>JobSatPoints_8</th>\n",
              "      <th>JobSatPoints_9</th>\n",
              "      <th>JobSatPoints_10</th>\n",
              "      <th>JobSatPoints_11</th>\n",
              "      <th>SurveyLength</th>\n",
              "      <th>SurveyEase</th>\n",
              "      <th>ConvertedCompYearly</th>\n",
              "      <th>JobSat</th>\n",
              "    </tr>\n",
              "  </thead>\n",
              "  <tbody>\n",
              "    <tr>\n",
              "      <th>65432</th>\n",
              "      <td>65433</td>\n",
              "      <td>I am a developer by profession</td>\n",
              "      <td>18-24 years old</td>\n",
              "      <td>Employed, full-time</td>\n",
              "      <td>Remote</td>\n",
              "      <td>Apples</td>\n",
              "      <td>Hobby;School or academic work</td>\n",
              "      <td>Bachelor’s degree (B.A., B.S., B.Eng., etc.)</td>\n",
              "      <td>On the job training;School (i.e., University, ...</td>\n",
              "      <td>NaN</td>\n",
              "      <td>...</td>\n",
              "      <td>NaN</td>\n",
              "      <td>NaN</td>\n",
              "      <td>NaN</td>\n",
              "      <td>NaN</td>\n",
              "      <td>NaN</td>\n",
              "      <td>NaN</td>\n",
              "      <td>NaN</td>\n",
              "      <td>NaN</td>\n",
              "      <td>NaN</td>\n",
              "      <td>NaN</td>\n",
              "    </tr>\n",
              "    <tr>\n",
              "      <th>65433</th>\n",
              "      <td>65434</td>\n",
              "      <td>I am a developer by profession</td>\n",
              "      <td>25-34 years old</td>\n",
              "      <td>Employed, full-time</td>\n",
              "      <td>Remote</td>\n",
              "      <td>Apples</td>\n",
              "      <td>Hobby;Contribute to open-source projects</td>\n",
              "      <td>NaN</td>\n",
              "      <td>NaN</td>\n",
              "      <td>NaN</td>\n",
              "      <td>...</td>\n",
              "      <td>NaN</td>\n",
              "      <td>NaN</td>\n",
              "      <td>NaN</td>\n",
              "      <td>NaN</td>\n",
              "      <td>NaN</td>\n",
              "      <td>NaN</td>\n",
              "      <td>NaN</td>\n",
              "      <td>NaN</td>\n",
              "      <td>NaN</td>\n",
              "      <td>NaN</td>\n",
              "    </tr>\n",
              "    <tr>\n",
              "      <th>65434</th>\n",
              "      <td>65435</td>\n",
              "      <td>I am a developer by profession</td>\n",
              "      <td>25-34 years old</td>\n",
              "      <td>Employed, full-time</td>\n",
              "      <td>In-person</td>\n",
              "      <td>Apples</td>\n",
              "      <td>Hobby</td>\n",
              "      <td>Bachelor’s degree (B.A., B.S., B.Eng., etc.)</td>\n",
              "      <td>Other online resources (e.g., videos, blogs, f...</td>\n",
              "      <td>Technical documentation;Stack Overflow;Social ...</td>\n",
              "      <td>...</td>\n",
              "      <td>NaN</td>\n",
              "      <td>NaN</td>\n",
              "      <td>NaN</td>\n",
              "      <td>NaN</td>\n",
              "      <td>NaN</td>\n",
              "      <td>NaN</td>\n",
              "      <td>NaN</td>\n",
              "      <td>NaN</td>\n",
              "      <td>NaN</td>\n",
              "      <td>NaN</td>\n",
              "    </tr>\n",
              "    <tr>\n",
              "      <th>65435</th>\n",
              "      <td>65436</td>\n",
              "      <td>I am a developer by profession</td>\n",
              "      <td>18-24 years old</td>\n",
              "      <td>Employed, full-time</td>\n",
              "      <td>Hybrid (some remote, some in-person)</td>\n",
              "      <td>Apples</td>\n",
              "      <td>Hobby;Contribute to open-source projects;Profe...</td>\n",
              "      <td>Secondary school (e.g. American high school, G...</td>\n",
              "      <td>On the job training;Other online resources (e....</td>\n",
              "      <td>Technical documentation;Blogs;Written Tutorial...</td>\n",
              "      <td>...</td>\n",
              "      <td>0.0</td>\n",
              "      <td>0.0</td>\n",
              "      <td>0.0</td>\n",
              "      <td>0.0</td>\n",
              "      <td>0.0</td>\n",
              "      <td>0.0</td>\n",
              "      <td>NaN</td>\n",
              "      <td>NaN</td>\n",
              "      <td>NaN</td>\n",
              "      <td>NaN</td>\n",
              "    </tr>\n",
              "    <tr>\n",
              "      <th>65436</th>\n",
              "      <td>65437</td>\n",
              "      <td>I code primarily as a hobby</td>\n",
              "      <td>18-24 years old</td>\n",
              "      <td>Student, full-time</td>\n",
              "      <td>NaN</td>\n",
              "      <td>Apples</td>\n",
              "      <td>NaN</td>\n",
              "      <td>NaN</td>\n",
              "      <td>NaN</td>\n",
              "      <td>NaN</td>\n",
              "      <td>...</td>\n",
              "      <td>NaN</td>\n",
              "      <td>NaN</td>\n",
              "      <td>NaN</td>\n",
              "      <td>NaN</td>\n",
              "      <td>NaN</td>\n",
              "      <td>NaN</td>\n",
              "      <td>NaN</td>\n",
              "      <td>NaN</td>\n",
              "      <td>NaN</td>\n",
              "      <td>NaN</td>\n",
              "    </tr>\n",
              "  </tbody>\n",
              "</table>\n",
              "<p>5 rows × 114 columns</p>\n",
              "</div>\n",
              "    <div class=\"colab-df-buttons\">\n",
              "\n",
              "  <div class=\"colab-df-container\">\n",
              "    <button class=\"colab-df-convert\" onclick=\"convertToInteractive('df-508c94f7-1f9a-4906-a571-cb663e56e287')\"\n",
              "            title=\"Convert this dataframe to an interactive table.\"\n",
              "            style=\"display:none;\">\n",
              "\n",
              "  <svg xmlns=\"http://www.w3.org/2000/svg\" height=\"24px\" viewBox=\"0 -960 960 960\">\n",
              "    <path d=\"M120-120v-720h720v720H120Zm60-500h600v-160H180v160Zm220 220h160v-160H400v160Zm0 220h160v-160H400v160ZM180-400h160v-160H180v160Zm440 0h160v-160H620v160ZM180-180h160v-160H180v160Zm440 0h160v-160H620v160Z\"/>\n",
              "  </svg>\n",
              "    </button>\n",
              "\n",
              "  <style>\n",
              "    .colab-df-container {\n",
              "      display:flex;\n",
              "      gap: 12px;\n",
              "    }\n",
              "\n",
              "    .colab-df-convert {\n",
              "      background-color: #E8F0FE;\n",
              "      border: none;\n",
              "      border-radius: 50%;\n",
              "      cursor: pointer;\n",
              "      display: none;\n",
              "      fill: #1967D2;\n",
              "      height: 32px;\n",
              "      padding: 0 0 0 0;\n",
              "      width: 32px;\n",
              "    }\n",
              "\n",
              "    .colab-df-convert:hover {\n",
              "      background-color: #E2EBFA;\n",
              "      box-shadow: 0px 1px 2px rgba(60, 64, 67, 0.3), 0px 1px 3px 1px rgba(60, 64, 67, 0.15);\n",
              "      fill: #174EA6;\n",
              "    }\n",
              "\n",
              "    .colab-df-buttons div {\n",
              "      margin-bottom: 4px;\n",
              "    }\n",
              "\n",
              "    [theme=dark] .colab-df-convert {\n",
              "      background-color: #3B4455;\n",
              "      fill: #D2E3FC;\n",
              "    }\n",
              "\n",
              "    [theme=dark] .colab-df-convert:hover {\n",
              "      background-color: #434B5C;\n",
              "      box-shadow: 0px 1px 3px 1px rgba(0, 0, 0, 0.15);\n",
              "      filter: drop-shadow(0px 1px 2px rgba(0, 0, 0, 0.3));\n",
              "      fill: #FFFFFF;\n",
              "    }\n",
              "  </style>\n",
              "\n",
              "    <script>\n",
              "      const buttonEl =\n",
              "        document.querySelector('#df-508c94f7-1f9a-4906-a571-cb663e56e287 button.colab-df-convert');\n",
              "      buttonEl.style.display =\n",
              "        google.colab.kernel.accessAllowed ? 'block' : 'none';\n",
              "\n",
              "      async function convertToInteractive(key) {\n",
              "        const element = document.querySelector('#df-508c94f7-1f9a-4906-a571-cb663e56e287');\n",
              "        const dataTable =\n",
              "          await google.colab.kernel.invokeFunction('convertToInteractive',\n",
              "                                                    [key], {});\n",
              "        if (!dataTable) return;\n",
              "\n",
              "        const docLinkHtml = 'Like what you see? Visit the ' +\n",
              "          '<a target=\"_blank\" href=https://colab.research.google.com/notebooks/data_table.ipynb>data table notebook</a>'\n",
              "          + ' to learn more about interactive tables.';\n",
              "        element.innerHTML = '';\n",
              "        dataTable['output_type'] = 'display_data';\n",
              "        await google.colab.output.renderOutput(dataTable, element);\n",
              "        const docLink = document.createElement('div');\n",
              "        docLink.innerHTML = docLinkHtml;\n",
              "        element.appendChild(docLink);\n",
              "      }\n",
              "    </script>\n",
              "  </div>\n",
              "\n",
              "\n",
              "<div id=\"df-fea13238-09fb-4ae0-87ea-5fbaafb0896d\">\n",
              "  <button class=\"colab-df-quickchart\" onclick=\"quickchart('df-fea13238-09fb-4ae0-87ea-5fbaafb0896d')\"\n",
              "            title=\"Suggest charts\"\n",
              "            style=\"display:none;\">\n",
              "\n",
              "<svg xmlns=\"http://www.w3.org/2000/svg\" height=\"24px\"viewBox=\"0 0 24 24\"\n",
              "     width=\"24px\">\n",
              "    <g>\n",
              "        <path d=\"M19 3H5c-1.1 0-2 .9-2 2v14c0 1.1.9 2 2 2h14c1.1 0 2-.9 2-2V5c0-1.1-.9-2-2-2zM9 17H7v-7h2v7zm4 0h-2V7h2v10zm4 0h-2v-4h2v4z\"/>\n",
              "    </g>\n",
              "</svg>\n",
              "  </button>\n",
              "\n",
              "<style>\n",
              "  .colab-df-quickchart {\n",
              "      --bg-color: #E8F0FE;\n",
              "      --fill-color: #1967D2;\n",
              "      --hover-bg-color: #E2EBFA;\n",
              "      --hover-fill-color: #174EA6;\n",
              "      --disabled-fill-color: #AAA;\n",
              "      --disabled-bg-color: #DDD;\n",
              "  }\n",
              "\n",
              "  [theme=dark] .colab-df-quickchart {\n",
              "      --bg-color: #3B4455;\n",
              "      --fill-color: #D2E3FC;\n",
              "      --hover-bg-color: #434B5C;\n",
              "      --hover-fill-color: #FFFFFF;\n",
              "      --disabled-bg-color: #3B4455;\n",
              "      --disabled-fill-color: #666;\n",
              "  }\n",
              "\n",
              "  .colab-df-quickchart {\n",
              "    background-color: var(--bg-color);\n",
              "    border: none;\n",
              "    border-radius: 50%;\n",
              "    cursor: pointer;\n",
              "    display: none;\n",
              "    fill: var(--fill-color);\n",
              "    height: 32px;\n",
              "    padding: 0;\n",
              "    width: 32px;\n",
              "  }\n",
              "\n",
              "  .colab-df-quickchart:hover {\n",
              "    background-color: var(--hover-bg-color);\n",
              "    box-shadow: 0 1px 2px rgba(60, 64, 67, 0.3), 0 1px 3px 1px rgba(60, 64, 67, 0.15);\n",
              "    fill: var(--button-hover-fill-color);\n",
              "  }\n",
              "\n",
              "  .colab-df-quickchart-complete:disabled,\n",
              "  .colab-df-quickchart-complete:disabled:hover {\n",
              "    background-color: var(--disabled-bg-color);\n",
              "    fill: var(--disabled-fill-color);\n",
              "    box-shadow: none;\n",
              "  }\n",
              "\n",
              "  .colab-df-spinner {\n",
              "    border: 2px solid var(--fill-color);\n",
              "    border-color: transparent;\n",
              "    border-bottom-color: var(--fill-color);\n",
              "    animation:\n",
              "      spin 1s steps(1) infinite;\n",
              "  }\n",
              "\n",
              "  @keyframes spin {\n",
              "    0% {\n",
              "      border-color: transparent;\n",
              "      border-bottom-color: var(--fill-color);\n",
              "      border-left-color: var(--fill-color);\n",
              "    }\n",
              "    20% {\n",
              "      border-color: transparent;\n",
              "      border-left-color: var(--fill-color);\n",
              "      border-top-color: var(--fill-color);\n",
              "    }\n",
              "    30% {\n",
              "      border-color: transparent;\n",
              "      border-left-color: var(--fill-color);\n",
              "      border-top-color: var(--fill-color);\n",
              "      border-right-color: var(--fill-color);\n",
              "    }\n",
              "    40% {\n",
              "      border-color: transparent;\n",
              "      border-right-color: var(--fill-color);\n",
              "      border-top-color: var(--fill-color);\n",
              "    }\n",
              "    60% {\n",
              "      border-color: transparent;\n",
              "      border-right-color: var(--fill-color);\n",
              "    }\n",
              "    80% {\n",
              "      border-color: transparent;\n",
              "      border-right-color: var(--fill-color);\n",
              "      border-bottom-color: var(--fill-color);\n",
              "    }\n",
              "    90% {\n",
              "      border-color: transparent;\n",
              "      border-bottom-color: var(--fill-color);\n",
              "    }\n",
              "  }\n",
              "</style>\n",
              "\n",
              "  <script>\n",
              "    async function quickchart(key) {\n",
              "      const quickchartButtonEl =\n",
              "        document.querySelector('#' + key + ' button');\n",
              "      quickchartButtonEl.disabled = true;  // To prevent multiple clicks.\n",
              "      quickchartButtonEl.classList.add('colab-df-spinner');\n",
              "      try {\n",
              "        const charts = await google.colab.kernel.invokeFunction(\n",
              "            'suggestCharts', [key], {});\n",
              "      } catch (error) {\n",
              "        console.error('Error during call to suggestCharts:', error);\n",
              "      }\n",
              "      quickchartButtonEl.classList.remove('colab-df-spinner');\n",
              "      quickchartButtonEl.classList.add('colab-df-quickchart-complete');\n",
              "    }\n",
              "    (() => {\n",
              "      let quickchartButtonEl =\n",
              "        document.querySelector('#df-fea13238-09fb-4ae0-87ea-5fbaafb0896d button');\n",
              "      quickchartButtonEl.style.display =\n",
              "        google.colab.kernel.accessAllowed ? 'block' : 'none';\n",
              "    })();\n",
              "  </script>\n",
              "</div>\n",
              "\n",
              "    </div>\n",
              "  </div>\n"
            ],
            "application/vnd.google.colaboratory.intrinsic+json": {
              "type": "dataframe"
            }
          },
          "metadata": {},
          "execution_count": 7
        }
      ],
      "source": [
        "dataframe.head()\n",
        "dataframe.tail()"
      ]
    },
    {
      "cell_type": "markdown",
      "source": [
        "# 🤔ANALISANDO O SCHEMA"
      ],
      "metadata": {
        "id": "xdDDYlsrb6Kc"
      }
    },
    {
      "cell_type": "markdown",
      "source": [
        "**colunas relevantes:**\n",
        "\n",
        "![image.png](data:image/png;base64,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)\n"
      ],
      "metadata": {
        "id": "63Y1wMS6fDyH"
      }
    },
    {
      "cell_type": "code",
      "source": [
        "print(dataframe.isnull().sum())"
      ],
      "metadata": {
        "colab": {
          "base_uri": "https://localhost:8080/"
        },
        "collapsed": true,
        "id": "N4pMYjkRlubU",
        "outputId": "fb39445b-81cf-43c8-e78b-3fcbc5494baf"
      },
      "execution_count": 8,
      "outputs": [
        {
          "output_type": "stream",
          "name": "stdout",
          "text": [
            "ResponseId                 0\n",
            "MainBranch                 0\n",
            "Age                        0\n",
            "Employment                 0\n",
            "RemoteWork             10631\n",
            "                       ...  \n",
            "JobSatPoints_11        35992\n",
            "SurveyLength            9255\n",
            "SurveyEase              9199\n",
            "ConvertedCompYearly    42002\n",
            "JobSat                 36311\n",
            "Length: 114, dtype: int64\n"
          ]
        }
      ]
    },
    {
      "cell_type": "markdown",
      "metadata": {
        "id": "SCsdeh269YVL"
      },
      "source": [
        "# ⚙️SETUP DOS DADOS"
      ]
    },
    {
      "cell_type": "markdown",
      "source": [
        "**atribuindo colunas que irei usar nas variaveis**"
      ],
      "metadata": {
        "id": "X-3VKb2527RX"
      }
    },
    {
      "cell_type": "code",
      "source": [
        "profissao_df = dataframe['MainBranch']\n",
        "idade_df = dataframe['Age']\n",
        "ocupacao_df = dataframe['Employment']\n",
        "anos_trabalhados_df = dataframe['YearsCodePro']\n",
        "tamanho_empresa_df = dataframe['OrgSize']\n",
        "pais_df = dataframe['Country']\n",
        "usa_IA_df = dataframe['AISelect']\n",
        "ia_opniao_df = dataframe['AISent']\n",
        "ia_beneficios_df = dataframe['AIBen']\n",
        "ia_desafios_df = dataframe ['AIChallenges']"
      ],
      "metadata": {
        "id": "NG8rNK5Nzqce"
      },
      "execution_count": 9,
      "outputs": []
    },
    {
      "cell_type": "markdown",
      "source": [
        "**verificando Null's e NAN nas variáveis**"
      ],
      "metadata": {
        "id": "7R0k1RGVAQw5"
      }
    },
    {
      "cell_type": "code",
      "source": [
        "profissao_df.isnull().sum()"
      ],
      "metadata": {
        "colab": {
          "base_uri": "https://localhost:8080/"
        },
        "id": "GLAcCUzUAfTK",
        "outputId": "ac1ee9c1-3d15-4136-88d4-7b95107476c9"
      },
      "execution_count": 10,
      "outputs": [
        {
          "output_type": "execute_result",
          "data": {
            "text/plain": [
              "0"
            ]
          },
          "metadata": {},
          "execution_count": 10
        }
      ]
    },
    {
      "cell_type": "code",
      "source": [
        "idade_df.isnull().sum()\n"
      ],
      "metadata": {
        "colab": {
          "base_uri": "https://localhost:8080/"
        },
        "id": "m1HKiobdBbF4",
        "outputId": "7626adc8-46c4-498c-efc3-713c608897ab"
      },
      "execution_count": 11,
      "outputs": [
        {
          "output_type": "execute_result",
          "data": {
            "text/plain": [
              "0"
            ]
          },
          "metadata": {},
          "execution_count": 11
        }
      ]
    },
    {
      "cell_type": "code",
      "source": [
        "ocupacao_df.isnull().sum()"
      ],
      "metadata": {
        "colab": {
          "base_uri": "https://localhost:8080/"
        },
        "id": "Y3uzag03Bfh4",
        "outputId": "21fb999a-45ca-495a-e889-d9537023236a"
      },
      "execution_count": 12,
      "outputs": [
        {
          "output_type": "execute_result",
          "data": {
            "text/plain": [
              "0"
            ]
          },
          "metadata": {},
          "execution_count": 12
        }
      ]
    },
    {
      "cell_type": "code",
      "source": [
        "anos_trabalhados_df.isnull().sum()"
      ],
      "metadata": {
        "colab": {
          "base_uri": "https://localhost:8080/"
        },
        "id": "_Tr4RY7PBjmP",
        "outputId": "77b0800a-55f2-4238-8e8d-fc7339f89a3e"
      },
      "execution_count": 13,
      "outputs": [
        {
          "output_type": "execute_result",
          "data": {
            "text/plain": [
              "13827"
            ]
          },
          "metadata": {},
          "execution_count": 13
        }
      ]
    },
    {
      "cell_type": "code",
      "source": [
        "tamanho_empresa_df.isnull().sum()"
      ],
      "metadata": {
        "colab": {
          "base_uri": "https://localhost:8080/"
        },
        "id": "VKqNwi4RBo5p",
        "outputId": "16e52bbb-de41-48ae-e3b2-1c3ba0dd16b4"
      },
      "execution_count": 14,
      "outputs": [
        {
          "output_type": "execute_result",
          "data": {
            "text/plain": [
              "17957"
            ]
          },
          "metadata": {},
          "execution_count": 14
        }
      ]
    },
    {
      "cell_type": "code",
      "source": [
        "pais_df.isnull().sum()"
      ],
      "metadata": {
        "colab": {
          "base_uri": "https://localhost:8080/"
        },
        "id": "Q2VfYle3By3J",
        "outputId": "f6d93a75-8dbc-49b8-b69d-655f141922aa"
      },
      "execution_count": 15,
      "outputs": [
        {
          "output_type": "execute_result",
          "data": {
            "text/plain": [
              "6507"
            ]
          },
          "metadata": {},
          "execution_count": 15
        }
      ]
    },
    {
      "cell_type": "code",
      "source": [
        "usa_IA_df.isnull().sum()"
      ],
      "metadata": {
        "colab": {
          "base_uri": "https://localhost:8080/"
        },
        "id": "IqE31f6HB31I",
        "outputId": "614b0334-691f-4f37-eae3-b1b05f213ecd"
      },
      "execution_count": 16,
      "outputs": [
        {
          "output_type": "execute_result",
          "data": {
            "text/plain": [
              "4530"
            ]
          },
          "metadata": {},
          "execution_count": 16
        }
      ]
    },
    {
      "cell_type": "code",
      "source": [
        "ia_opniao_df.isnull().sum()"
      ],
      "metadata": {
        "colab": {
          "base_uri": "https://localhost:8080/"
        },
        "id": "21OH60ldCJDY",
        "outputId": "dfaff60e-5b52-4e32-de19-f657344cf4b8"
      },
      "execution_count": 17,
      "outputs": [
        {
          "output_type": "execute_result",
          "data": {
            "text/plain": [
              "19564"
            ]
          },
          "metadata": {},
          "execution_count": 17
        }
      ]
    },
    {
      "cell_type": "code",
      "source": [
        "ia_beneficios_df.isnull().sum()"
      ],
      "metadata": {
        "colab": {
          "base_uri": "https://localhost:8080/"
        },
        "id": "g2GBdcn-CMWo",
        "outputId": "360933a6-f234-4517-c2b6-397c8a152db1"
      },
      "execution_count": 18,
      "outputs": [
        {
          "output_type": "execute_result",
          "data": {
            "text/plain": [
              "28543"
            ]
          },
          "metadata": {},
          "execution_count": 18
        }
      ]
    },
    {
      "cell_type": "code",
      "source": [
        "ia_desafios_df.isnull().sum()"
      ],
      "metadata": {
        "colab": {
          "base_uri": "https://localhost:8080/"
        },
        "collapsed": true,
        "id": "Pm98IaGnCb__",
        "outputId": "e2a96ec2-2e86-4fbd-a2d3-a1a34b219bc3"
      },
      "execution_count": 19,
      "outputs": [
        {
          "output_type": "execute_result",
          "data": {
            "text/plain": [
              "27906"
            ]
          },
          "metadata": {},
          "execution_count": 19
        }
      ]
    },
    {
      "cell_type": "markdown",
      "source": [
        "🧮📊 TRATAMENTO DE DADOS"
      ],
      "metadata": {
        "id": "y3FObEsTB5cR"
      }
    },
    {
      "cell_type": "markdown",
      "source": [
        "**AGRUPANDO OS PERFIS DOS CANDIDATOS | TRADUÇÃO DAS INFORMAÇÕES | SIMPLIFICAÇÃO DE MúLTIPLAS-ESCOLHAS**"
      ],
      "metadata": {
        "id": "FTPFnzIsCU8r"
      }
    },
    {
      "cell_type": "code",
      "source": [
        "#profissao não tem dados null's na coluna\n",
        "profissao_df = profissao_df.replace({\n",
        "    'I am a developer by profession': 'Dev Profissional',\n",
        "    'I am learning to code': 'Estudante de Programação',\n",
        "    'I code primarily as a hobby': 'Entusiasta',\n",
        "    'I am not primarily a developer, but I write code sometimes as part of my work/studies': 'Estagiarios',\n",
        "    'I used to be a developer by profession, but no longer am': 'Dev Profissional'\n",
        "})"
      ],
      "metadata": {
        "id": "SWXze5naCpR_"
      },
      "execution_count": 20,
      "outputs": []
    },
    {
      "cell_type": "markdown",
      "source": [],
      "metadata": {
        "id": "Wy5g61LdUD2l"
      }
    },
    {
      "cell_type": "code",
      "source": [
        "profissao_df.unique()"
      ],
      "metadata": {
        "colab": {
          "base_uri": "https://localhost:8080/"
        },
        "collapsed": true,
        "id": "J78Zl9P7CcAC",
        "outputId": "245efb40-c0b9-46e5-db6b-f48646068d6f"
      },
      "execution_count": 21,
      "outputs": [
        {
          "output_type": "execute_result",
          "data": {
            "text/plain": [
              "array(['Dev Profissional', 'Estudante de Programação', 'Entusiasta',\n",
              "       'Estagiarios'], dtype=object)"
            ]
          },
          "metadata": {},
          "execution_count": 21
        }
      ]
    },
    {
      "cell_type": "code",
      "source": [
        "idade_df = idade_df.replace({\n",
        "'Under 18 years old': 'Menor de 18 anos',\n",
        "'35-44 years old': 'entre 35-44 anos de idade',\n",
        "'45-54 years old': 'entre 45-54 anos de idade',\n",
        "'18-24 years old': 'entre 18-24 anos de idade',\n",
        "'25-34 years old': 'entre 25-34 anos de idade',\n",
        "'55-64 years old': 'entre 55-64 anos de idade',\n",
        "'Prefer not to say': 'Preferir não dizer',\n",
        "'65 years or older': '65 anos ou mais'\n",
        " })"
      ],
      "metadata": {
        "id": "5MFBr-wHCk0C"
      },
      "execution_count": 22,
      "outputs": []
    },
    {
      "cell_type": "code",
      "source": [
        "idade_df.unique()"
      ],
      "metadata": {
        "colab": {
          "base_uri": "https://localhost:8080/"
        },
        "collapsed": true,
        "id": "WldyUMNhD33q",
        "outputId": "a103e8c7-d9ee-4060-d087-25ae8b4fdc77"
      },
      "execution_count": 23,
      "outputs": [
        {
          "output_type": "execute_result",
          "data": {
            "text/plain": [
              "array(['Menor de 18 anos', 'entre 35-44 anos de idade',\n",
              "       'entre 45-54 anos de idade', 'entre 18-24 anos de idade',\n",
              "       'entre 25-34 anos de idade', 'entre 55-64 anos de idade',\n",
              "       'Preferir não dizer', '65 anos ou mais'], dtype=object)"
            ]
          },
          "metadata": {},
          "execution_count": 23
        }
      ]
    },
    {
      "cell_type": "code",
      "source": [
        "def agrupar_emprego(emprego):\n",
        "  if 'Student' in emprego:\n",
        "    return 'Estudante'\n",
        "  elif 'Employed full-time' in emprego:\n",
        "    return 'Trabalhando'\n",
        "  elif 'Retired' in emprego:\n",
        "    return 'Aposentado'\n",
        "  elif 'Independent contractor, freelancer, or self-employed' in emprego:\n",
        "    return 'Autônomo'\n",
        "  else:\n",
        "    return 'Outro'\n",
        "\n",
        "\n",
        "ocupacao_df = ocupacao_df.apply(agrupar_emprego)\n"
      ],
      "metadata": {
        "id": "nCMTZ7XwMTuS"
      },
      "execution_count": 24,
      "outputs": []
    },
    {
      "cell_type": "code",
      "source": [
        "ocupacao_df.unique()"
      ],
      "metadata": {
        "colab": {
          "base_uri": "https://localhost:8080/"
        },
        "collapsed": true,
        "id": "_NEoZ_eANiRX",
        "outputId": "4914568d-0319-42bc-abb0-6609c17bf091"
      },
      "execution_count": 25,
      "outputs": [
        {
          "output_type": "execute_result",
          "data": {
            "text/plain": [
              "array(['Outro', 'Estudante', 'Autônomo', 'Aposentado'], dtype=object)"
            ]
          },
          "metadata": {},
          "execution_count": 25
        }
      ]
    },
    {
      "cell_type": "code",
      "source": [
        "anos_trabalhados_df = anos_trabalhados_df.fillna(\"não respondeu\")\n",
        "anos_trabalhados_df.unique()"
      ],
      "metadata": {
        "colab": {
          "base_uri": "https://localhost:8080/"
        },
        "collapsed": true,
        "id": "91MghX7RQl-1",
        "outputId": "bf2b8a78-e69f-4953-9a20-e4c8735dda8c"
      },
      "execution_count": 26,
      "outputs": [
        {
          "output_type": "execute_result",
          "data": {
            "text/plain": [
              "array(['não respondeu', '17', '27', '7', '11', '25', '12', '10', '3',\n",
              "       'Less than 1 year', '18', '37', '15', '20', '6', '2', '16', '8',\n",
              "       '14', '4', '45', '1', '24', '29', '5', '30', '26', '9', '33', '13',\n",
              "       '35', '23', '22', '31', '19', '21', '28', '34', '32', '40', '50',\n",
              "       '39', '44', '42', '41', '36', '38', 'More than 50 years', '43',\n",
              "       '47', '48', '46', '49'], dtype=object)"
            ]
          },
          "metadata": {},
          "execution_count": 26
        }
      ]
    },
    {
      "cell_type": "code",
      "source": [
        "anos_trabalhados_df = anos_trabalhados_df.replace({\n",
        "    'Less than 1 year': 'Menos de 1 ano',\n",
        "    'More than 50 years': 'Mais de 50 anos',\n",
        "})"
      ],
      "metadata": {
        "id": "TF3t5DEnRMVf"
      },
      "execution_count": 27,
      "outputs": []
    },
    {
      "cell_type": "code",
      "source": [
        "anos_trabalhados_df.unique()"
      ],
      "metadata": {
        "colab": {
          "base_uri": "https://localhost:8080/"
        },
        "collapsed": true,
        "id": "y9x3j4_USdy2",
        "outputId": "e993c5f1-ec8b-4679-99f3-f025abc0e362"
      },
      "execution_count": 28,
      "outputs": [
        {
          "output_type": "execute_result",
          "data": {
            "text/plain": [
              "array(['não respondeu', '17', '27', '7', '11', '25', '12', '10', '3',\n",
              "       'Menos de 1 ano', '18', '37', '15', '20', '6', '2', '16', '8',\n",
              "       '14', '4', '45', '1', '24', '29', '5', '30', '26', '9', '33', '13',\n",
              "       '35', '23', '22', '31', '19', '21', '28', '34', '32', '40', '50',\n",
              "       '39', '44', '42', '41', '36', '38', 'Mais de 50 anos', '43', '47',\n",
              "       '48', '46', '49'], dtype=object)"
            ]
          },
          "metadata": {},
          "execution_count": 28
        }
      ]
    },
    {
      "cell_type": "code",
      "source": [
        "tamanho_empresa_df.unique()"
      ],
      "metadata": {
        "colab": {
          "base_uri": "https://localhost:8080/"
        },
        "collapsed": true,
        "id": "vT3bEkgcTI8I",
        "outputId": "89e2862f-e664-43bd-a6db-48318107c2db"
      },
      "execution_count": 29,
      "outputs": [
        {
          "output_type": "execute_result",
          "data": {
            "text/plain": [
              "array([nan, '100 to 499 employees', '2 to 9 employees',\n",
              "       'Just me - I am a freelancer, sole proprietor, etc.',\n",
              "       '10 to 19 employees', '20 to 99 employees',\n",
              "       '5,000 to 9,999 employees', '1,000 to 4,999 employees',\n",
              "       'I don’t know', '10,000 or more employees', '500 to 999 employees'],\n",
              "      dtype=object)"
            ]
          },
          "metadata": {},
          "execution_count": 29
        }
      ]
    },
    {
      "cell_type": "code",
      "source": [
        "def agrupar_tamanho_empresa(tamanho):\n",
        "  if tamanho is None or tamanho == \"I don't know\":\n",
        "    return 'Não respondeu'\n",
        "  elif 'Just me - I am a freelancer, sole proprietor, etc.' in tamanho:\n",
        "    return 'Apenas eu (autônomo)'\n",
        "  elif '2 to 9 employees' in tamanho:\n",
        "    return 'Pequena (2-9 funcionários)'\n",
        "  elif '10 to 19 employees' in tamanho:\n",
        "    return 'Pequena (10-19 funcionários)'\n",
        "  elif '20 to 99 employees' in tamanho:\n",
        "    return 'Média (20-99 funcionários)'\n",
        "  elif '100 to 499 employees' in tamanho:\n",
        "    return 'Média (100-499 funcionários)'\n",
        "  elif '500 to 999 employees' in tamanho:\n",
        "    return 'Grande (500-999 funcionários)'\n",
        "  elif '1,000 to 4,999 employees' in tamanho:\n",
        "    return 'Grande (1000-4999 funcionários)'\n",
        "  elif '5,000 to 9,999 employees' in tamanho:\n",
        "    return 'Muito Grande (5000-9999 funcionários)'\n",
        "  elif '10,000 or more employees' in tamanho:\n",
        "    return 'Muito Grande (10000+ funcionários)'\n",
        "  else:\n",
        "    return 'Outro'\n",
        "\n",
        "# Convert any float values to strings before applying the function.\n",
        "tamanho_empresa_df = tamanho_empresa_df.astype(str).apply(agrupar_tamanho_empresa)\n",
        "tamanho_empresa_df.unique()\n"
      ],
      "metadata": {
        "colab": {
          "base_uri": "https://localhost:8080/"
        },
        "collapsed": true,
        "id": "tvQ8l_BKTOR_",
        "outputId": "7730c160-2d55-4426-9653-3ff468a1e110"
      },
      "execution_count": 30,
      "outputs": [
        {
          "output_type": "execute_result",
          "data": {
            "text/plain": [
              "array(['Outro', 'Média (100-499 funcionários)',\n",
              "       'Pequena (2-9 funcionários)', 'Apenas eu (autônomo)',\n",
              "       'Pequena (10-19 funcionários)', 'Média (20-99 funcionários)',\n",
              "       'Muito Grande (5000-9999 funcionários)',\n",
              "       'Grande (1000-4999 funcionários)',\n",
              "       'Muito Grande (10000+ funcionários)',\n",
              "       'Grande (500-999 funcionários)'], dtype=object)"
            ]
          },
          "metadata": {},
          "execution_count": 30
        }
      ]
    },
    {
      "cell_type": "code",
      "source": [
        "pais_df = pais_df.fillna(\"Não respondeu\")"
      ],
      "metadata": {
        "id": "Yp6r3jr0UhTG"
      },
      "execution_count": 31,
      "outputs": []
    },
    {
      "cell_type": "code",
      "source": [
        "pais_df.unique()"
      ],
      "metadata": {
        "colab": {
          "base_uri": "https://localhost:8080/"
        },
        "collapsed": true,
        "id": "5gPSkJGKU4wP",
        "outputId": "e8188507-4240-42ab-877b-e83cd24bf844"
      },
      "execution_count": 32,
      "outputs": [
        {
          "output_type": "execute_result",
          "data": {
            "text/plain": [
              "array(['United States of America',\n",
              "       'United Kingdom of Great Britain and Northern Ireland', 'Canada',\n",
              "       'Norway', 'Uzbekistan', 'Serbia', 'Poland', 'Philippines',\n",
              "       'Bulgaria', 'Switzerland', 'India', 'Germany', 'Ireland', 'Italy',\n",
              "       'Ukraine', 'Australia', 'Brazil', 'Japan', 'Austria',\n",
              "       'Iran, Islamic Republic of...', 'France', 'Saudi Arabia',\n",
              "       'Romania', 'Turkey', 'Nepal', 'Algeria', 'Sweden', 'Netherlands',\n",
              "       'Croatia', 'Pakistan', 'Czech Republic',\n",
              "       'Republic of North Macedonia', 'Finland', 'Slovakia',\n",
              "       'Russian Federation', 'Greece', 'Israel', 'Belgium', 'Mexico',\n",
              "       'United Republic of Tanzania', 'Hungary', 'Argentina', 'Portugal',\n",
              "       'Sri Lanka', 'Latvia', 'China', 'Singapore', 'Lebanon', 'Spain',\n",
              "       'South Africa', 'Lithuania', 'Viet Nam', 'Dominican Republic',\n",
              "       'Indonesia', 'Kosovo', 'Morocco', 'Taiwan', 'Georgia',\n",
              "       'San Marino', 'Tunisia', 'Bangladesh', 'Nigeria', 'Liechtenstein',\n",
              "       'Denmark', 'Ecuador', 'Malaysia', 'Albania', 'Azerbaijan', 'Chile',\n",
              "       'Ghana', 'Peru', 'Bolivia', 'Egypt', 'Luxembourg', 'Montenegro',\n",
              "       'Cyprus', 'Paraguay', 'Kazakhstan', 'Slovenia', 'Jordan',\n",
              "       'Venezuela, Bolivarian Republic of...', 'Costa Rica', 'Jamaica',\n",
              "       'Thailand', 'Nicaragua', 'Myanmar', 'Republic of Korea', 'Rwanda',\n",
              "       'Bosnia and Herzegovina', 'Benin', 'El Salvador', 'Zimbabwe',\n",
              "       'Afghanistan', 'Estonia', 'Malta', 'Uruguay', 'Belarus',\n",
              "       'Colombia', 'Republic of Moldova', 'Isle of Man', 'Nomadic',\n",
              "       'New Zealand', 'Palestine', 'Armenia', 'United Arab Emirates',\n",
              "       'Maldives', 'Ethiopia', 'Fiji', 'Guatemala', 'Uganda',\n",
              "       'Turkmenistan', 'Mauritius', 'Kenya', 'Cuba', 'Gabon', 'Bahamas',\n",
              "       'South Korea', 'Iceland', 'Honduras', 'Hong Kong (S.A.R.)',\n",
              "       \"Lao People's Democratic Republic\", 'Mongolia', 'Cambodia',\n",
              "       'Madagascar', 'Angola', 'Democratic Republic of the Congo',\n",
              "       'Syrian Arab Republic', 'Iraq', 'Namibia', 'Senegal', 'Kyrgyzstan',\n",
              "       'Zambia', 'Swaziland', \"Côte d'Ivoire\", 'Kuwait', 'Tajikistan',\n",
              "       'Burundi', 'Trinidad and Tobago', 'Mauritania', 'Sierra Leone',\n",
              "       'Panama', 'Somalia', 'North Korea', 'Dominica', 'Guyana', 'Togo',\n",
              "       'Oman', 'Barbados', 'Andorra',\n",
              "       \"Democratic People's Republic of Korea\", 'Qatar', 'Sudan',\n",
              "       'Cameroon', 'Papua New Guinea', 'Bahrain', 'Yemen', 'Malawi',\n",
              "       'Burkina Faso', 'Congo, Republic of the...', 'Botswana',\n",
              "       'Guinea-Bissau', 'Mozambique', 'Central African Republic',\n",
              "       'Equatorial Guinea', 'Suriname', 'Belize',\n",
              "       'Libyan Arab Jamahiriya', 'Cape Verde', 'Brunei Darussalam',\n",
              "       'Bhutan', 'Guinea', 'Niger', 'Antigua and Barbuda', 'Mali',\n",
              "       'Samoa', 'Lesotho', 'Saint Kitts and Nevis', 'Monaco',\n",
              "       'Micronesia, Federated States of...', 'Haiti', 'Não respondeu',\n",
              "       'Nauru', 'Liberia', 'Chad', 'Djibouti', 'Solomon Islands'],\n",
              "      dtype=object)"
            ]
          },
          "metadata": {},
          "execution_count": 32
        }
      ]
    },
    {
      "cell_type": "code",
      "source": [
        "usa_IA_df.unique()"
      ],
      "metadata": {
        "colab": {
          "base_uri": "https://localhost:8080/"
        },
        "id": "d6y0e8dVVCD_",
        "outputId": "abe34ba4-21bc-4bfd-db96-6413135419f0"
      },
      "execution_count": 33,
      "outputs": [
        {
          "output_type": "execute_result",
          "data": {
            "text/plain": [
              "array(['Yes', \"No, and I don't plan to\", 'No, but I plan to soon', nan],\n",
              "      dtype=object)"
            ]
          },
          "metadata": {},
          "execution_count": 33
        }
      ]
    },
    {
      "cell_type": "code",
      "source": [
        "def tratar_usa_ia(resposta):\n",
        "  if resposta is None or resposta == \"nan\" or resposta == \"I don't use them\":\n",
        "    return 'Não usa'\n",
        "  elif resposta == 'I have never heard of them':\n",
        "    return 'Não conhece'\n",
        "  else:\n",
        "    return 'Usa'\n",
        "\n",
        "usa_IA_df = usa_IA_df.astype(str).apply(tratar_usa_ia)\n",
        "\n",
        "usa_IA_df.unique()\n"
      ],
      "metadata": {
        "colab": {
          "base_uri": "https://localhost:8080/"
        },
        "id": "8T-0CLmhVipA",
        "outputId": "0465d3a7-91c3-413b-8072-4d0bdc289851"
      },
      "execution_count": 34,
      "outputs": [
        {
          "output_type": "execute_result",
          "data": {
            "text/plain": [
              "array(['Usa', 'Não usa'], dtype=object)"
            ]
          },
          "metadata": {},
          "execution_count": 34
        }
      ]
    },
    {
      "cell_type": "code",
      "source": [
        "def tratar_ia_opiniao(resposta):\n",
        "  if resposta is None or resposta == \"nan\":\n",
        "    return 'Não respondeu'\n",
        "  elif 'No opinion; I\\'m neutral' in resposta:\n",
        "    return 'Neutro'\n",
        "  elif 'Favorable' in resposta:\n",
        "    return 'Favorável'\n",
        "  elif 'Unfavorable' in resposta:\n",
        "    return 'Desfavorável'\n",
        "  else:\n",
        "    return 'Outro'\n",
        "\n",
        "ia_opniao_df = ia_opniao_df.astype(str).apply(tratar_ia_opiniao)\n",
        "ia_opniao_df.unique()\n"
      ],
      "metadata": {
        "colab": {
          "base_uri": "https://localhost:8080/"
        },
        "id": "73NVxKIRWFY4",
        "outputId": "d2e0575a-352d-42ff-ae8c-d207e81d77c1"
      },
      "execution_count": 35,
      "outputs": [
        {
          "output_type": "execute_result",
          "data": {
            "text/plain": [
              "array(['Outro', 'Não respondeu', 'Favorável', 'Desfavorável'],\n",
              "      dtype=object)"
            ]
          },
          "metadata": {},
          "execution_count": 35
        }
      ]
    },
    {
      "cell_type": "code",
      "source": [
        "# prompt: desejo aplicar todas essas alterções no dataframe original e manter no dataframe somente as colunas que eu atribui na variavel\n",
        "\n",
        "dataframe['MainBranch'] = profissao_df\n",
        "dataframe['Age'] = idade_df\n",
        "dataframe['Employment'] = ocupacao_df\n",
        "dataframe['YearsCodePro'] = anos_trabalhados_df\n",
        "dataframe['OrgSize'] = tamanho_empresa_df\n",
        "dataframe['Country'] = pais_df\n",
        "dataframe['AISelect'] = usa_IA_df\n",
        "dataframe['AISent'] = ia_opniao_df\n",
        "\n",
        "# Keep only the columns assigned to variables\n",
        "columns_to_keep = ['MainBranch', 'Age', 'Employment', 'YearsCodePro', 'OrgSize', 'Country', 'AISelect', 'AISent']\n",
        "dataframe = dataframe[columns_to_keep]\n"
      ],
      "metadata": {
        "id": "d-iLH86zWonx"
      },
      "execution_count": 36,
      "outputs": []
    },
    {
      "cell_type": "code",
      "source": [
        "# prompt: agora quero exportar esse dataframe e baixa-lo como csv\n",
        "\n",
        "from google.colab import files\n",
        "\n",
        "dataframe.to_csv('dataframe_tratado.csv', encoding='utf-8-sig', index=False)\n",
        "files.download('dataframe_tratado.csv')\n"
      ],
      "metadata": {
        "colab": {
          "base_uri": "https://localhost:8080/",
          "height": 17
        },
        "id": "Wb6i-LD9X43a",
        "outputId": "6c3f4009-a918-4367-e1da-c3098e8b84f8"
      },
      "execution_count": 46,
      "outputs": [
        {
          "output_type": "display_data",
          "data": {
            "text/plain": [
              "<IPython.core.display.Javascript object>"
            ],
            "application/javascript": [
              "\n",
              "    async function download(id, filename, size) {\n",
              "      if (!google.colab.kernel.accessAllowed) {\n",
              "        return;\n",
              "      }\n",
              "      const div = document.createElement('div');\n",
              "      const label = document.createElement('label');\n",
              "      label.textContent = `Downloading \"${filename}\": `;\n",
              "      div.appendChild(label);\n",
              "      const progress = document.createElement('progress');\n",
              "      progress.max = size;\n",
              "      div.appendChild(progress);\n",
              "      document.body.appendChild(div);\n",
              "\n",
              "      const buffers = [];\n",
              "      let downloaded = 0;\n",
              "\n",
              "      const channel = await google.colab.kernel.comms.open(id);\n",
              "      // Send a message to notify the kernel that we're ready.\n",
              "      channel.send({})\n",
              "\n",
              "      for await (const message of channel.messages) {\n",
              "        // Send a message to notify the kernel that we're ready.\n",
              "        channel.send({})\n",
              "        if (message.buffers) {\n",
              "          for (const buffer of message.buffers) {\n",
              "            buffers.push(buffer);\n",
              "            downloaded += buffer.byteLength;\n",
              "            progress.value = downloaded;\n",
              "          }\n",
              "        }\n",
              "      }\n",
              "      const blob = new Blob(buffers, {type: 'application/binary'});\n",
              "      const a = document.createElement('a');\n",
              "      a.href = window.URL.createObjectURL(blob);\n",
              "      a.download = filename;\n",
              "      div.appendChild(a);\n",
              "      a.click();\n",
              "      div.remove();\n",
              "    }\n",
              "  "
            ]
          },
          "metadata": {}
        },
        {
          "output_type": "display_data",
          "data": {
            "text/plain": [
              "<IPython.core.display.Javascript object>"
            ],
            "application/javascript": [
              "download(\"download_4c43b366-ea00-424a-a0d9-90bcc2c95ce5\", \"dataframe_tratado.csv\", 7073268)"
            ]
          },
          "metadata": {}
        }
      ]
    },
    {
      "cell_type": "code",
      "source": [
        "dataframe.head()"
      ],
      "metadata": {
        "colab": {
          "base_uri": "https://localhost:8080/",
          "height": 293
        },
        "id": "P37p8swnYaJa",
        "outputId": "a1ce9df3-00ca-421b-9f4d-526f902edcaf"
      },
      "execution_count": 47,
      "outputs": [
        {
          "output_type": "execute_result",
          "data": {
            "text/plain": [
              "                 MainBranch                        Age Employment  \\\n",
              "0          Dev Profissional           Menor de 18 anos      Outro   \n",
              "1          Dev Profissional  entre 35-44 anos de idade      Outro   \n",
              "2          Dev Profissional  entre 45-54 anos de idade      Outro   \n",
              "3  Estudante de Programação  entre 18-24 anos de idade  Estudante   \n",
              "4          Dev Profissional  entre 18-24 anos de idade  Estudante   \n",
              "\n",
              "    YearsCodePro OrgSize                                            Country  \\\n",
              "0  não respondeu   Outro                           United States of America   \n",
              "1             17   Outro  United Kingdom of Great Britain and Northern I...   \n",
              "2             27   Outro  United Kingdom of Great Britain and Northern I...   \n",
              "3  não respondeu   Outro                                             Canada   \n",
              "4  não respondeu   Outro                                             Norway   \n",
              "\n",
              "  AISelect         AISent  \n",
              "0      Usa          Outro  \n",
              "1      Usa  Não respondeu  \n",
              "2      Usa  Não respondeu  \n",
              "3      Usa          Outro  \n",
              "4      Usa  Não respondeu  "
            ],
            "text/html": [
              "\n",
              "  <div id=\"df-f1d79e00-3e52-4f5c-8693-bfb072a87703\" class=\"colab-df-container\">\n",
              "    <div>\n",
              "<style scoped>\n",
              "    .dataframe tbody tr th:only-of-type {\n",
              "        vertical-align: middle;\n",
              "    }\n",
              "\n",
              "    .dataframe tbody tr th {\n",
              "        vertical-align: top;\n",
              "    }\n",
              "\n",
              "    .dataframe thead th {\n",
              "        text-align: right;\n",
              "    }\n",
              "</style>\n",
              "<table border=\"1\" class=\"dataframe\">\n",
              "  <thead>\n",
              "    <tr style=\"text-align: right;\">\n",
              "      <th></th>\n",
              "      <th>MainBranch</th>\n",
              "      <th>Age</th>\n",
              "      <th>Employment</th>\n",
              "      <th>YearsCodePro</th>\n",
              "      <th>OrgSize</th>\n",
              "      <th>Country</th>\n",
              "      <th>AISelect</th>\n",
              "      <th>AISent</th>\n",
              "    </tr>\n",
              "  </thead>\n",
              "  <tbody>\n",
              "    <tr>\n",
              "      <th>0</th>\n",
              "      <td>Dev Profissional</td>\n",
              "      <td>Menor de 18 anos</td>\n",
              "      <td>Outro</td>\n",
              "      <td>não respondeu</td>\n",
              "      <td>Outro</td>\n",
              "      <td>United States of America</td>\n",
              "      <td>Usa</td>\n",
              "      <td>Outro</td>\n",
              "    </tr>\n",
              "    <tr>\n",
              "      <th>1</th>\n",
              "      <td>Dev Profissional</td>\n",
              "      <td>entre 35-44 anos de idade</td>\n",
              "      <td>Outro</td>\n",
              "      <td>17</td>\n",
              "      <td>Outro</td>\n",
              "      <td>United Kingdom of Great Britain and Northern I...</td>\n",
              "      <td>Usa</td>\n",
              "      <td>Não respondeu</td>\n",
              "    </tr>\n",
              "    <tr>\n",
              "      <th>2</th>\n",
              "      <td>Dev Profissional</td>\n",
              "      <td>entre 45-54 anos de idade</td>\n",
              "      <td>Outro</td>\n",
              "      <td>27</td>\n",
              "      <td>Outro</td>\n",
              "      <td>United Kingdom of Great Britain and Northern I...</td>\n",
              "      <td>Usa</td>\n",
              "      <td>Não respondeu</td>\n",
              "    </tr>\n",
              "    <tr>\n",
              "      <th>3</th>\n",
              "      <td>Estudante de Programação</td>\n",
              "      <td>entre 18-24 anos de idade</td>\n",
              "      <td>Estudante</td>\n",
              "      <td>não respondeu</td>\n",
              "      <td>Outro</td>\n",
              "      <td>Canada</td>\n",
              "      <td>Usa</td>\n",
              "      <td>Outro</td>\n",
              "    </tr>\n",
              "    <tr>\n",
              "      <th>4</th>\n",
              "      <td>Dev Profissional</td>\n",
              "      <td>entre 18-24 anos de idade</td>\n",
              "      <td>Estudante</td>\n",
              "      <td>não respondeu</td>\n",
              "      <td>Outro</td>\n",
              "      <td>Norway</td>\n",
              "      <td>Usa</td>\n",
              "      <td>Não respondeu</td>\n",
              "    </tr>\n",
              "  </tbody>\n",
              "</table>\n",
              "</div>\n",
              "    <div class=\"colab-df-buttons\">\n",
              "\n",
              "  <div class=\"colab-df-container\">\n",
              "    <button class=\"colab-df-convert\" onclick=\"convertToInteractive('df-f1d79e00-3e52-4f5c-8693-bfb072a87703')\"\n",
              "            title=\"Convert this dataframe to an interactive table.\"\n",
              "            style=\"display:none;\">\n",
              "\n",
              "  <svg xmlns=\"http://www.w3.org/2000/svg\" height=\"24px\" viewBox=\"0 -960 960 960\">\n",
              "    <path d=\"M120-120v-720h720v720H120Zm60-500h600v-160H180v160Zm220 220h160v-160H400v160Zm0 220h160v-160H400v160ZM180-400h160v-160H180v160Zm440 0h160v-160H620v160ZM180-180h160v-160H180v160Zm440 0h160v-160H620v160Z\"/>\n",
              "  </svg>\n",
              "    </button>\n",
              "\n",
              "  <style>\n",
              "    .colab-df-container {\n",
              "      display:flex;\n",
              "      gap: 12px;\n",
              "    }\n",
              "\n",
              "    .colab-df-convert {\n",
              "      background-color: #E8F0FE;\n",
              "      border: none;\n",
              "      border-radius: 50%;\n",
              "      cursor: pointer;\n",
              "      display: none;\n",
              "      fill: #1967D2;\n",
              "      height: 32px;\n",
              "      padding: 0 0 0 0;\n",
              "      width: 32px;\n",
              "    }\n",
              "\n",
              "    .colab-df-convert:hover {\n",
              "      background-color: #E2EBFA;\n",
              "      box-shadow: 0px 1px 2px rgba(60, 64, 67, 0.3), 0px 1px 3px 1px rgba(60, 64, 67, 0.15);\n",
              "      fill: #174EA6;\n",
              "    }\n",
              "\n",
              "    .colab-df-buttons div {\n",
              "      margin-bottom: 4px;\n",
              "    }\n",
              "\n",
              "    [theme=dark] .colab-df-convert {\n",
              "      background-color: #3B4455;\n",
              "      fill: #D2E3FC;\n",
              "    }\n",
              "\n",
              "    [theme=dark] .colab-df-convert:hover {\n",
              "      background-color: #434B5C;\n",
              "      box-shadow: 0px 1px 3px 1px rgba(0, 0, 0, 0.15);\n",
              "      filter: drop-shadow(0px 1px 2px rgba(0, 0, 0, 0.3));\n",
              "      fill: #FFFFFF;\n",
              "    }\n",
              "  </style>\n",
              "\n",
              "    <script>\n",
              "      const buttonEl =\n",
              "        document.querySelector('#df-f1d79e00-3e52-4f5c-8693-bfb072a87703 button.colab-df-convert');\n",
              "      buttonEl.style.display =\n",
              "        google.colab.kernel.accessAllowed ? 'block' : 'none';\n",
              "\n",
              "      async function convertToInteractive(key) {\n",
              "        const element = document.querySelector('#df-f1d79e00-3e52-4f5c-8693-bfb072a87703');\n",
              "        const dataTable =\n",
              "          await google.colab.kernel.invokeFunction('convertToInteractive',\n",
              "                                                    [key], {});\n",
              "        if (!dataTable) return;\n",
              "\n",
              "        const docLinkHtml = 'Like what you see? Visit the ' +\n",
              "          '<a target=\"_blank\" href=https://colab.research.google.com/notebooks/data_table.ipynb>data table notebook</a>'\n",
              "          + ' to learn more about interactive tables.';\n",
              "        element.innerHTML = '';\n",
              "        dataTable['output_type'] = 'display_data';\n",
              "        await google.colab.output.renderOutput(dataTable, element);\n",
              "        const docLink = document.createElement('div');\n",
              "        docLink.innerHTML = docLinkHtml;\n",
              "        element.appendChild(docLink);\n",
              "      }\n",
              "    </script>\n",
              "  </div>\n",
              "\n",
              "\n",
              "<div id=\"df-af94c3de-b5f2-4b8f-9664-a870a3a2525e\">\n",
              "  <button class=\"colab-df-quickchart\" onclick=\"quickchart('df-af94c3de-b5f2-4b8f-9664-a870a3a2525e')\"\n",
              "            title=\"Suggest charts\"\n",
              "            style=\"display:none;\">\n",
              "\n",
              "<svg xmlns=\"http://www.w3.org/2000/svg\" height=\"24px\"viewBox=\"0 0 24 24\"\n",
              "     width=\"24px\">\n",
              "    <g>\n",
              "        <path d=\"M19 3H5c-1.1 0-2 .9-2 2v14c0 1.1.9 2 2 2h14c1.1 0 2-.9 2-2V5c0-1.1-.9-2-2-2zM9 17H7v-7h2v7zm4 0h-2V7h2v10zm4 0h-2v-4h2v4z\"/>\n",
              "    </g>\n",
              "</svg>\n",
              "  </button>\n",
              "\n",
              "<style>\n",
              "  .colab-df-quickchart {\n",
              "      --bg-color: #E8F0FE;\n",
              "      --fill-color: #1967D2;\n",
              "      --hover-bg-color: #E2EBFA;\n",
              "      --hover-fill-color: #174EA6;\n",
              "      --disabled-fill-color: #AAA;\n",
              "      --disabled-bg-color: #DDD;\n",
              "  }\n",
              "\n",
              "  [theme=dark] .colab-df-quickchart {\n",
              "      --bg-color: #3B4455;\n",
              "      --fill-color: #D2E3FC;\n",
              "      --hover-bg-color: #434B5C;\n",
              "      --hover-fill-color: #FFFFFF;\n",
              "      --disabled-bg-color: #3B4455;\n",
              "      --disabled-fill-color: #666;\n",
              "  }\n",
              "\n",
              "  .colab-df-quickchart {\n",
              "    background-color: var(--bg-color);\n",
              "    border: none;\n",
              "    border-radius: 50%;\n",
              "    cursor: pointer;\n",
              "    display: none;\n",
              "    fill: var(--fill-color);\n",
              "    height: 32px;\n",
              "    padding: 0;\n",
              "    width: 32px;\n",
              "  }\n",
              "\n",
              "  .colab-df-quickchart:hover {\n",
              "    background-color: var(--hover-bg-color);\n",
              "    box-shadow: 0 1px 2px rgba(60, 64, 67, 0.3), 0 1px 3px 1px rgba(60, 64, 67, 0.15);\n",
              "    fill: var(--button-hover-fill-color);\n",
              "  }\n",
              "\n",
              "  .colab-df-quickchart-complete:disabled,\n",
              "  .colab-df-quickchart-complete:disabled:hover {\n",
              "    background-color: var(--disabled-bg-color);\n",
              "    fill: var(--disabled-fill-color);\n",
              "    box-shadow: none;\n",
              "  }\n",
              "\n",
              "  .colab-df-spinner {\n",
              "    border: 2px solid var(--fill-color);\n",
              "    border-color: transparent;\n",
              "    border-bottom-color: var(--fill-color);\n",
              "    animation:\n",
              "      spin 1s steps(1) infinite;\n",
              "  }\n",
              "\n",
              "  @keyframes spin {\n",
              "    0% {\n",
              "      border-color: transparent;\n",
              "      border-bottom-color: var(--fill-color);\n",
              "      border-left-color: var(--fill-color);\n",
              "    }\n",
              "    20% {\n",
              "      border-color: transparent;\n",
              "      border-left-color: var(--fill-color);\n",
              "      border-top-color: var(--fill-color);\n",
              "    }\n",
              "    30% {\n",
              "      border-color: transparent;\n",
              "      border-left-color: var(--fill-color);\n",
              "      border-top-color: var(--fill-color);\n",
              "      border-right-color: var(--fill-color);\n",
              "    }\n",
              "    40% {\n",
              "      border-color: transparent;\n",
              "      border-right-color: var(--fill-color);\n",
              "      border-top-color: var(--fill-color);\n",
              "    }\n",
              "    60% {\n",
              "      border-color: transparent;\n",
              "      border-right-color: var(--fill-color);\n",
              "    }\n",
              "    80% {\n",
              "      border-color: transparent;\n",
              "      border-right-color: var(--fill-color);\n",
              "      border-bottom-color: var(--fill-color);\n",
              "    }\n",
              "    90% {\n",
              "      border-color: transparent;\n",
              "      border-bottom-color: var(--fill-color);\n",
              "    }\n",
              "  }\n",
              "</style>\n",
              "\n",
              "  <script>\n",
              "    async function quickchart(key) {\n",
              "      const quickchartButtonEl =\n",
              "        document.querySelector('#' + key + ' button');\n",
              "      quickchartButtonEl.disabled = true;  // To prevent multiple clicks.\n",
              "      quickchartButtonEl.classList.add('colab-df-spinner');\n",
              "      try {\n",
              "        const charts = await google.colab.kernel.invokeFunction(\n",
              "            'suggestCharts', [key], {});\n",
              "      } catch (error) {\n",
              "        console.error('Error during call to suggestCharts:', error);\n",
              "      }\n",
              "      quickchartButtonEl.classList.remove('colab-df-spinner');\n",
              "      quickchartButtonEl.classList.add('colab-df-quickchart-complete');\n",
              "    }\n",
              "    (() => {\n",
              "      let quickchartButtonEl =\n",
              "        document.querySelector('#df-af94c3de-b5f2-4b8f-9664-a870a3a2525e button');\n",
              "      quickchartButtonEl.style.display =\n",
              "        google.colab.kernel.accessAllowed ? 'block' : 'none';\n",
              "    })();\n",
              "  </script>\n",
              "</div>\n",
              "\n",
              "    </div>\n",
              "  </div>\n"
            ],
            "application/vnd.google.colaboratory.intrinsic+json": {
              "type": "dataframe",
              "variable_name": "dataframe",
              "summary": "{\n  \"name\": \"dataframe\",\n  \"rows\": 65437,\n  \"fields\": [\n    {\n      \"column\": \"MainBranch\",\n      \"properties\": {\n        \"dtype\": \"category\",\n        \"num_unique_values\": 4,\n        \"samples\": [\n          \"Estudante de Programa\\u00e7\\u00e3o\",\n          \"Estagiarios\",\n          \"Dev Profissional\"\n        ],\n        \"semantic_type\": \"\",\n        \"description\": \"\"\n      }\n    },\n    {\n      \"column\": \"Age\",\n      \"properties\": {\n        \"dtype\": \"category\",\n        \"num_unique_values\": 8,\n        \"samples\": [\n          \"entre 35-44 anos de idade\",\n          \"entre 55-64 anos de idade\",\n          \"Menor de 18 anos\"\n        ],\n        \"semantic_type\": \"\",\n        \"description\": \"\"\n      }\n    },\n    {\n      \"column\": \"Employment\",\n      \"properties\": {\n        \"dtype\": \"category\",\n        \"num_unique_values\": 4,\n        \"samples\": [\n          \"Estudante\",\n          \"Aposentado\",\n          \"Outro\"\n        ],\n        \"semantic_type\": \"\",\n        \"description\": \"\"\n      }\n    },\n    {\n      \"column\": \"YearsCodePro\",\n      \"properties\": {\n        \"dtype\": \"category\",\n        \"num_unique_values\": 53,\n        \"samples\": [\n          \"4\",\n          \"39\",\n          \"Mais de 50 anos\"\n        ],\n        \"semantic_type\": \"\",\n        \"description\": \"\"\n      }\n    },\n    {\n      \"column\": \"OrgSize\",\n      \"properties\": {\n        \"dtype\": \"category\",\n        \"num_unique_values\": 10,\n        \"samples\": [\n          \"Muito Grande (10000+ funcion\\u00e1rios)\",\n          \"M\\u00e9dia (100-499 funcion\\u00e1rios)\",\n          \"M\\u00e9dia (20-99 funcion\\u00e1rios)\"\n        ],\n        \"semantic_type\": \"\",\n        \"description\": \"\"\n      }\n    },\n    {\n      \"column\": \"Country\",\n      \"properties\": {\n        \"dtype\": \"category\",\n        \"num_unique_values\": 186,\n        \"samples\": [\n          \"Cuba\",\n          \"Suriname\",\n          \"Bhutan\"\n        ],\n        \"semantic_type\": \"\",\n        \"description\": \"\"\n      }\n    },\n    {\n      \"column\": \"AISelect\",\n      \"properties\": {\n        \"dtype\": \"category\",\n        \"num_unique_values\": 2,\n        \"samples\": [\n          \"N\\u00e3o usa\",\n          \"Usa\"\n        ],\n        \"semantic_type\": \"\",\n        \"description\": \"\"\n      }\n    },\n    {\n      \"column\": \"AISent\",\n      \"properties\": {\n        \"dtype\": \"category\",\n        \"num_unique_values\": 4,\n        \"samples\": [\n          \"N\\u00e3o respondeu\",\n          \"Desfavor\\u00e1vel\"\n        ],\n        \"semantic_type\": \"\",\n        \"description\": \"\"\n      }\n    }\n  ]\n}"
            }
          },
          "metadata": {},
          "execution_count": 47
        }
      ]
    },
    {
      "cell_type": "markdown",
      "source": [
        "# 🤖 CONCLUSÃO DOS INSIGHTS APRESENTADOS:\n",
        "\n",
        "\n",
        "\n",
        "\n",
        "\n",
        "\n"
      ],
      "metadata": {
        "id": "JwFkg93XZ8DQ"
      }
    },
    {
      "cell_type": "markdown",
      "source": [
        "**Qual a porcentagem de desenvolvedores que usam IA em cada faixa etária?**\n"
      ],
      "metadata": {
        "id": "ayVyiOETaX_n"
      }
    },
    {
      "cell_type": "code",
      "source": [
        "idade_usa_ia = round((pd.crosstab(idade_df, usa_IA_df, normalize='index') * 100),2)\n",
        "print(\"Porcentagem de desenvolvedores que usam IA em cada faixa etária:\")\n",
        "print(idade_usa_ia)"
      ],
      "metadata": {
        "colab": {
          "base_uri": "https://localhost:8080/"
        },
        "id": "gfN9cjadadP4",
        "outputId": "640866fb-b52c-444e-a4df-c4056e41d79f"
      },
      "execution_count": 37,
      "outputs": [
        {
          "output_type": "stream",
          "name": "stdout",
          "text": [
            "Porcentagem de desenvolvedores que usam IA em cada faixa etária:\n",
            "AISelect                   Não usa    Usa\n",
            "Age                                      \n",
            "65 anos ou mais               3.63  96.37\n",
            "Menor de 18 anos              7.87  92.13\n",
            "Preferir não dizer           13.98  86.02\n",
            "entre 18-24 anos de idade     9.57  90.43\n",
            "entre 25-34 anos de idade     7.32  92.68\n",
            "entre 35-44 anos de idade     5.47  94.53\n",
            "entre 45-54 anos de idade     3.95  96.05\n",
            "entre 55-64 anos de idade     3.50  96.50\n"
          ]
        }
      ]
    },
    {
      "cell_type": "code",
      "source": [
        "plt.figure(figsize=(10, 6))\n",
        "idade_usa_ia.plot(kind='bar', stacked=True)\n",
        "plt.title('Porcentagem de desenvolvedores que usam IA por Faixa Etária')\n",
        "plt.xlabel('Faixa Etária')\n",
        "plt.ylabel('Porcentagem (%)')\n",
        "plt.legend(title='Usa IA?')\n",
        "plt.xticks(rotation=45, ha='right')\n",
        "plt.show()"
      ],
      "metadata": {
        "colab": {
          "base_uri": "https://localhost:8080/",
          "height": 615
        },
        "id": "5_YNnKdCgrNH",
        "outputId": "9436c314-f246-44af-f9ec-81513552e7e6"
      },
      "execution_count": 38,
      "outputs": [
        {
          "output_type": "display_data",
          "data": {
            "text/plain": [
              "<Figure size 1000x600 with 0 Axes>"
            ]
          },
          "metadata": {}
        },
        {
          "output_type": "display_data",
          "data": {
            "text/plain": [
              "<Figure size 640x480 with 1 Axes>"
            ],
            "image/png": "[encoded data removed]"
          },
          "metadata": {}
        }
      ]
    },
    {
      "cell_type": "markdown",
      "source": [
        "**Quais são as profissões que mais utilizam IA?**\n"
      ],
      "metadata": {
        "id": "3IH7IkxlbXun"
      }
    },
    {
      "cell_type": "code",
      "source": [
        "profissao_usa_ia = round((pd.crosstab(profissao_df, usa_IA_df, normalize='index') * 100),2)\n",
        "print(\"\\nPorcentagem de desenvolvedores que usam IA em cada profissão:\")\n",
        "print(profissao_usa_ia)"
      ],
      "metadata": {
        "colab": {
          "base_uri": "https://localhost:8080/"
        },
        "id": "490W9_xIbFCh",
        "outputId": "6e4af1bd-b507-4b7a-dc2c-5271461553d3"
      },
      "execution_count": 39,
      "outputs": [
        {
          "output_type": "stream",
          "name": "stdout",
          "text": [
            "\n",
            "Porcentagem de desenvolvedores que usam IA em cada profissão:\n",
            "AISelect                  Não usa    Usa\n",
            "MainBranch                              \n",
            "Dev Profissional             6.67  93.33\n",
            "Entusiasta                   6.48  93.52\n",
            "Estagiarios                  6.70  93.30\n",
            "Estudante de Programação    11.12  88.88\n"
          ]
        }
      ]
    },
    {
      "cell_type": "code",
      "source": [
        "plt.figure(figsize=(10, 6))\n",
        "profissao_usa_ia.plot(kind='bar', stacked=True)\n",
        "plt.title('Porcentagem de desenvolvedores que usam IA por Profissão')\n",
        "plt.xlabel('Profissão')\n",
        "plt.ylabel('Porcentagem (%)')\n",
        "plt.legend(title='Usa IA?')\n",
        "plt.xticks(rotation=45, ha='right')\n",
        "plt.show()"
      ],
      "metadata": {
        "colab": {
          "base_uri": "https://localhost:8080/",
          "height": 618
        },
        "id": "WKYePIfag3HX",
        "outputId": "f7ccdca4-4900-414e-896d-878501ef20e5"
      },
      "execution_count": 40,
      "outputs": [
        {
          "output_type": "display_data",
          "data": {
            "text/plain": [
              "<Figure size 1000x600 with 0 Axes>"
            ]
          },
          "metadata": {}
        },
        {
          "output_type": "display_data",
          "data": {
            "text/plain": [
              "<Figure size 640x480 with 1 Axes>"
            ],
            "image/png": "[encoded data removed]"
          },
          "metadata": {}
        }
      ]
    },
    {
      "cell_type": "markdown",
      "source": [
        "**Qual a opinião predominante sobre a IA entre os desenvolvedores?**"
      ],
      "metadata": {
        "id": "c04nUIqabiLI"
      }
    },
    {
      "cell_type": "code",
      "source": [
        "opiniao_ia_contagem = ia_opniao_df.value_counts()\n",
        "print(\"\\nOpinião predominante sobre a IA:\")\n",
        "print(opiniao_ia_contagem)"
      ],
      "metadata": {
        "colab": {
          "base_uri": "https://localhost:8080/"
        },
        "id": "H4qX8oZsbjvv",
        "outputId": "3982fa4b-0969-4d47-d0da-15bd24e70899"
      },
      "execution_count": 41,
      "outputs": [
        {
          "output_type": "stream",
          "name": "stdout",
          "text": [
            "\n",
            "Opinião predominante sobre a IA:\n",
            "AISent\n",
            "Favorável        22167\n",
            "Outro            21325\n",
            "Não respondeu    19564\n",
            "Desfavorável      2381\n",
            "Name: count, dtype: int64\n"
          ]
        }
      ]
    },
    {
      "cell_type": "code",
      "source": [
        "plt.figure(figsize=(8, 6))\n",
        "opiniao_ia_contagem.plot(kind='pie', autopct='%1.1f%%')\n",
        "plt.title('Opinião sobre a IA')\n",
        "plt.ylabel('')\n",
        "plt.show()\n"
      ],
      "metadata": {
        "colab": {
          "base_uri": "https://localhost:8080/",
          "height": 521
        },
        "id": "Ghuey07bhEWZ",
        "outputId": "d3ceb00a-e299-4afe-f967-779968735681"
      },
      "execution_count": 42,
      "outputs": [
        {
          "output_type": "display_data",
          "data": {
            "text/plain": [
              "<Figure size 800x600 with 1 Axes>"
            ],
            "image/png": "[encoded data removed]"
          },
          "metadata": {}
        }
      ]
    },
    {
      "cell_type": "markdown",
      "source": [
        "**Existe alguma correlação entre o tamanho da empresa e a adoção de ferramentas de IA?**"
      ],
      "metadata": {
        "id": "qTtZSL-Ybukv"
      }
    },
    {
      "cell_type": "code",
      "source": [
        "tamanho_empresa_usa_ia = round((pd.crosstab(tamanho_empresa_df, usa_IA_df, normalize='index') * 100),2)\n",
        "print(\"\\nCorrelação entre tamanho da empresa e adoção de ferramentas de IA:\")\n",
        "print(tamanho_empresa_usa_ia)"
      ],
      "metadata": {
        "colab": {
          "base_uri": "https://localhost:8080/"
        },
        "id": "9T6zgx8vbxrv",
        "outputId": "8b686587-4ada-405e-d44b-ab97f617b36b"
      },
      "execution_count": 43,
      "outputs": [
        {
          "output_type": "stream",
          "name": "stdout",
          "text": [
            "\n",
            "Correlação entre tamanho da empresa e adoção de ferramentas de IA:\n",
            "AISelect                               Não usa    Usa\n",
            "OrgSize                                              \n",
            "Apenas eu (autônomo)                      2.01  97.99\n",
            "Grande (1000-4999 funcionários)           2.22  97.78\n",
            "Grande (500-999 funcionários)             1.89  98.11\n",
            "Muito Grande (10000+ funcionários)        2.45  97.55\n",
            "Muito Grande (5000-9999 funcionários)     2.14  97.86\n",
            "Média (100-499 funcionários)              2.39  97.61\n",
            "Média (20-99 funcionários)                2.47  97.53\n",
            "Outro                                    18.09  81.91\n",
            "Pequena (10-19 funcionários)              2.55  97.45\n",
            "Pequena (2-9 funcionários)                2.44  97.56\n"
          ]
        }
      ]
    },
    {
      "cell_type": "code",
      "source": [
        "plt.figure(figsize=(12, 6))\n",
        "tamanho_empresa_usa_ia.plot(kind='bar', stacked=True)\n",
        "plt.title('Correlação entre Tamanho da Empresa e Adoção de Ferramentas de IA')\n",
        "plt.xlabel('Tamanho da Empresa')\n",
        "plt.ylabel('Porcentagem (%)')\n",
        "plt.legend(title='Usa IA?')\n",
        "plt.xticks(rotation=45, ha='right')\n",
        "plt.show()"
      ],
      "metadata": {
        "colab": {
          "base_uri": "https://localhost:8080/",
          "height": 679
        },
        "id": "WuzsbI3ehPd_",
        "outputId": "b771464d-8380-4455-f33f-c81f5f97ddd9"
      },
      "execution_count": 44,
      "outputs": [
        {
          "output_type": "display_data",
          "data": {
            "text/plain": [
              "<Figure size 1200x600 with 0 Axes>"
            ]
          },
          "metadata": {}
        },
        {
          "output_type": "display_data",
          "data": {
            "text/plain": [
              "<Figure size 640x480 with 1 Axes>"
            ],
            "image/png": "[encoded data removed]"
          },
          "metadata": {}
        }
      ]
    },
    {
      "cell_type": "markdown",
      "source": [
        "**Há diferenças significativas entre as opiniões sobre a IA de acordo com a profissão ou idade?**"
      ],
      "metadata": {
        "id": "RRa73OJ6b68o"
      }
    },
    {
      "cell_type": "code",
      "source": [
        "opiniao_ia_profissao = round((pd.crosstab(profissao_df, ia_opniao_df, normalize='index') * 100),2)\n",
        "opiniao_ia_idade = round((pd.crosstab(idade_df, ia_opniao_df, normalize='index') * 100),2)\n",
        "\n",
        "print(\"\\nDiferenças nas opiniões sobre a IA por profissão:\")\n",
        "print(opiniao_ia_profissao)\n",
        "\n",
        "print(\"\\nDiferenças nas opiniões sobre a IA por idade:\")\n",
        "print(opiniao_ia_idade)\n"
      ],
      "metadata": {
        "colab": {
          "base_uri": "https://localhost:8080/"
        },
        "id": "Q4zlnuPib_pX",
        "outputId": "3700a1a5-406c-4c0b-b856-2ebe2b04cc52"
      },
      "execution_count": 45,
      "outputs": [
        {
          "output_type": "stream",
          "name": "stdout",
          "text": [
            "\n",
            "Diferenças nas opiniões sobre a IA por profissão:\n",
            "AISent                    Desfavorável  Favorável  Não respondeu  Outro\n",
            "MainBranch                                                             \n",
            "Dev Profissional                  3.71      34.24          29.04  33.01\n",
            "Entusiasta                        3.93      28.31          42.29  25.46\n",
            "Estagiarios                       3.19      32.42          32.24  32.15\n",
            "Estudante de Programação          3.20      36.26          26.68  33.86\n",
            "\n",
            "Diferenças nas opiniões sobre a IA por idade:\n",
            "AISent                     Desfavorável  Favorável  Não respondeu  Outro\n",
            "Age                                                                     \n",
            "65 anos ou mais                    2.72      20.73          49.35  27.20\n",
            "Menor de 18 anos                   4.60      32.71          35.36  27.34\n",
            "Preferir não dizer                 2.48      16.77          50.62  30.12\n",
            "entre 18-24 anos de idade          3.66      36.51          28.93  30.91\n",
            "entre 25-34 anos de idade          3.58      35.51          27.53  33.39\n",
            "entre 35-44 anos de idade          3.87      32.01          30.15  33.96\n",
            "entre 45-54 anos de idade          3.14      31.78          30.98  34.10\n",
            "entre 55-64 anos de idade          3.38      27.46          39.26  29.90\n"
          ]
        }
      ]
    },
    {
      "cell_type": "markdown",
      "source": [
        "# Insights para a V8.Tech"
      ],
      "metadata": {
        "id": "FVG1rqFxkNMG"
      }
    },
    {
      "cell_type": "markdown",
      "source": [
        "\n",
        "**1. Forte Apelo da IA:**\n",
        "\n",
        "A alta adoção de ferramentas de IA indica que as pessoas provavelmente já estão familiarizados com a tecnologia e estarão receptivos a novas soluções.\n",
        "\n",
        "A opinião predominantemente favorável sobre a IA sugere que a empresa pode esperar um feedback positivo ao implementar novas ferramentas.\n",
        "\n",
        "**2. Considerações sobre o Perfil dos Colaboradores:**\n",
        "\n",
        "Não há grandes discrepâncias entre as diferentes faixas etárias e nem as areas de atuação em relação à adoção e opinião sobre a IA. Isso significa que a empresa pode implementar uma solução única para todos os colaboradores, sem a necessidade de soluções personalizadas.\n",
        "\n",
        "**3. Impacto do Tamanho da Empresa:**\n",
        "\n",
        "A maior adoção em empresas maiores pode indicar que a V8.Tech, se for uma empresa de grande porte, já possui uma cultura mais propícia à inovação e à adoção de novas tecnologias.\n",
        "\n",
        "\n",
        "# Recomendações para a V8.Tech\n",
        "\n",
        "Priorizar ferramentas com interface intuitiva e fácil de usar: Isso facilitará a adoção por todos os colaboradores, independentemente do nível de experiência técnica.\n",
        "Escolher ferramentas com foco em produtividade e eficiência: Aumentar a produtividade é um dos principais motivadores para a adoção de ferramentas de IA.\n",
        "\n",
        "Considerar ferramentas que se integrem com as ferramentas já utilizadas pela empresa: Isso minimizará a necessidade de mudanças drásticas nos processos de trabalho.\n",
        "\n",
        "Implementar um programa de treinamento e suporte: Oferecer treinamento e suporte contínuos aos colaboradores é essencial para garantir o sucesso da implementação.\n",
        "\n",
        "Monitorar o impacto das novas ferramentas: Acompanhar o desempenho e o feedback dos colaboradores permitirá ajustar a estratégia e otimizar o uso das ferramentas.\n"
      ],
      "metadata": {
        "id": "0_67ecDQdho0"
      }
    }
  ],
  "metadata": {
    "colab": {
      "provenance": [],
      "authorship_tag": "ABX9TyMr/4D9q+LgD4/ukC4X5zoy",
      "include_colab_link": true
    },
    "kernelspec": {
      "display_name": "Python 3",
      "name": "python3"
    },
    "language_info": {
      "name": "python"
    }
  },
  "nbformat": 4,
  "nbformat_minor": 0
}